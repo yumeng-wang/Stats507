{
 "cells": [
  {
   "cell_type": "code",
   "execution_count": 1,
   "id": "9d84a4a0",
   "metadata": {},
   "outputs": [],
   "source": [
    "import time\n",
    "import numpy as np\n",
    "from scipy.stats import norm, beta"
   ]
  },
  {
   "cell_type": "markdown",
   "id": "9ee2a51d",
   "metadata": {},
   "source": [
    "## Question 0 - Markdown warmup"
   ]
  },
  {
   "cell_type": "markdown",
   "id": "cb928535",
   "metadata": {},
   "source": [
    "This is *question 0* for [problem set 1](https://jbhender.github.io/Stats507/F21/ps/ps1.html) of [Stats 507](https://jbhender.github.io/Stats507/F21/).\n",
    "\n",
    "> Question 0 is about Markdown.\n",
    "\n",
    "The next question is about the **Fibonnaci sequence**, $F_n=F_{n−2}+F_{n−1}$. In part $\\bf{a}$ we will define a Python function `fib_rec()`.\n",
    "\n",
    "Below is a …\n",
    "\n",
    "### Level 3 Header\n",
    "\n",
    "Next, we can make a bulleted list:\n",
    "- Item 1\n",
    "    - detail 1\n",
    "    - detail 2\n",
    "- Item 2\n",
    "\n",
    "Finally, we can make an enumerated list:\n",
    "1. Item 1\n",
    "2. Item 2\n",
    "3. Item 3"
   ]
  },
  {
   "cell_type": "markdown",
   "id": "2d3bf0fe",
   "metadata": {},
   "source": [
    "## Question 1 - Fibonnaci Sequence"
   ]
  },
  {
   "cell_type": "markdown",
   "id": "83e6febd",
   "metadata": {},
   "source": [
    "#### a."
   ]
  },
  {
   "cell_type": "code",
   "execution_count": 2,
   "id": "54bcd977",
   "metadata": {
    "scrolled": false
   },
   "outputs": [],
   "source": [
    "def fib_rec(n, a = 0, b = 1):\n",
    "    \"\"\"\n",
    "    This function generates Fibonacci numbers by using recursive method.\n",
    "\n",
    "    Parameters\n",
    "    ----------\n",
    "    n : int\n",
    "        the nth Fibonacci numbers will be calculated.\n",
    "    a : int, optional\n",
    "        the first Fibonacci numbers F_0. The default is 0.\n",
    "    b : int, optional\n",
    "        the second Fibonacci numbers F_1. The default is 1.\n",
    "\n",
    "    Returns\n",
    "    -------\n",
    "    the nth Fibonacci numbers.\n",
    "\n",
    "    \"\"\"\n",
    "    if n == 0:\n",
    "        return a\n",
    "    elif n == 1:\n",
    "        return b\n",
    "    else:\n",
    "        return fib_rec(n-1) + fib_rec(n-2)"
   ]
  },
  {
   "cell_type": "code",
   "execution_count": 3,
   "id": "55623f7c",
   "metadata": {
    "scrolled": false
   },
   "outputs": [
    {
     "name": "stdout",
     "output_type": "stream",
     "text": [
      "13\n",
      "89\n",
      "233\n"
     ]
    }
   ],
   "source": [
    "print(fib_rec(7))\n",
    "print(fib_rec(11))\n",
    "print(fib_rec(13))"
   ]
  },
  {
   "cell_type": "markdown",
   "id": "3e44fddf",
   "metadata": {},
   "source": [
    "#### b."
   ]
  },
  {
   "cell_type": "code",
   "execution_count": 4,
   "id": "5b350329",
   "metadata": {
    "scrolled": false
   },
   "outputs": [],
   "source": [
    "def fib_for(n, a = 0, b = 1):\n",
    "    \"\"\"\n",
    "    This function generates Fibonacci numbers by using for loop.\n",
    "\n",
    "    Parameters\n",
    "    ----------\n",
    "    n : int\n",
    "        the nth Fibonacci numbers will be calculated.\n",
    "    a : int, optional\n",
    "        the first Fibonacci numbers F_0. The default is 0.\n",
    "    b : int, optional\n",
    "        the second Fibonacci numbers F_1. The default is 1.\n",
    "\n",
    "    Returns\n",
    "    -------\n",
    "    the nth Fibonacci numbers.\n",
    "\n",
    "    \"\"\"\n",
    "    x = a\n",
    "    y = b\n",
    "    for k in range(n):\n",
    "        z = x + y\n",
    "        x = y\n",
    "        y = z\n",
    "    return x"
   ]
  },
  {
   "cell_type": "code",
   "execution_count": 5,
   "id": "e0dcb7b9",
   "metadata": {
    "scrolled": false
   },
   "outputs": [
    {
     "name": "stdout",
     "output_type": "stream",
     "text": [
      "13\n",
      "89\n",
      "233\n"
     ]
    }
   ],
   "source": [
    "print(fib_for(7))\n",
    "print(fib_for(11))\n",
    "print(fib_for(13))"
   ]
  },
  {
   "cell_type": "markdown",
   "id": "513130f2",
   "metadata": {},
   "source": [
    "#### c."
   ]
  },
  {
   "cell_type": "code",
   "execution_count": 6,
   "id": "d0aa963d",
   "metadata": {
    "scrolled": false
   },
   "outputs": [],
   "source": [
    "def fib_whl(n, a = 0, b = 1):\n",
    "    \"\"\"\n",
    "    This function generates Fibonacci numbers by using while loop.\n",
    "\n",
    "    Parameters\n",
    "    ----------\n",
    "    n : int\n",
    "        the nth Fibonacci numbers will be calculated.\n",
    "    a : int, optional\n",
    "        the first Fibonacci numbers F_0. The default is 0.\n",
    "    b : int, optional\n",
    "        the second Fibonacci numbers F_1. The default is 1.\n",
    "\n",
    "    Returns\n",
    "    -------\n",
    "    the nth Fibonacci numbers.\n",
    "\n",
    "    \"\"\"\n",
    "    x = a\n",
    "    y = b\n",
    "    k = 0\n",
    "    while k < n:\n",
    "        z = x + y\n",
    "        x = y\n",
    "        y = z\n",
    "        k += 1\n",
    "    return x"
   ]
  },
  {
   "cell_type": "code",
   "execution_count": 7,
   "id": "fa818868",
   "metadata": {
    "scrolled": false
   },
   "outputs": [
    {
     "name": "stdout",
     "output_type": "stream",
     "text": [
      "13\n",
      "89\n",
      "233\n"
     ]
    }
   ],
   "source": [
    "print(fib_whl(7))\n",
    "print(fib_whl(11))\n",
    "print(fib_whl(13))"
   ]
  },
  {
   "cell_type": "markdown",
   "id": "5cefe37e",
   "metadata": {},
   "source": [
    "#### d."
   ]
  },
  {
   "cell_type": "code",
   "execution_count": 8,
   "id": "2d35b86c",
   "metadata": {
    "scrolled": false
   },
   "outputs": [],
   "source": [
    "def fib_rnd(n):\n",
    "    \"\"\"\n",
    "    This function generates Fibonacci numbers by using the rounding method.\n",
    "\n",
    "    Parameters\n",
    "    ----------\n",
    "    n : int\n",
    "        the nth Fibonacci numbers will be calculated.\n",
    "\n",
    "    Returns\n",
    "    -------\n",
    "    the nth Fibonacci numbers.\n",
    "\n",
    "    \"\"\"\n",
    "    phi = (1 + 5 ** .5) / 2\n",
    "    return round(phi ** n / 5 ** .5)"
   ]
  },
  {
   "cell_type": "code",
   "execution_count": 9,
   "id": "185e56d5",
   "metadata": {
    "scrolled": false
   },
   "outputs": [
    {
     "name": "stdout",
     "output_type": "stream",
     "text": [
      "13\n",
      "89\n",
      "233\n"
     ]
    }
   ],
   "source": [
    "print(fib_rnd(7))\n",
    "print(fib_rnd(11))\n",
    "print(fib_rnd(13))"
   ]
  },
  {
   "cell_type": "markdown",
   "id": "60d64d29",
   "metadata": {},
   "source": [
    "#### e."
   ]
  },
  {
   "cell_type": "code",
   "execution_count": 10,
   "id": "8b77a50e",
   "metadata": {
    "scrolled": false
   },
   "outputs": [],
   "source": [
    "def fib_flr(n, a = 0, b = 1):\n",
    "    \"\"\"\n",
    "    This function generates Fibonacci numbers by using the truncation method.\n",
    "\n",
    "    Parameters\n",
    "    ----------\n",
    "    n : int\n",
    "        the nth Fibonacci numbers will be calculated.\n",
    "in\n",
    "    Returns\n",
    "    -------\n",
    "    the nth Fibonacci numbers.\n",
    "\n",
    "    \"\"\"\n",
    "    phi = (1 + 5 ** .5) / 2\n",
    "    return int(phi ** n / 5 ** .5 + .5)"
   ]
  },
  {
   "cell_type": "code",
   "execution_count": 11,
   "id": "3da527b3",
   "metadata": {
    "scrolled": true
   },
   "outputs": [
    {
     "name": "stdout",
     "output_type": "stream",
     "text": [
      "13\n",
      "89\n",
      "233\n"
     ]
    }
   ],
   "source": [
    "print(fib_flr(7))\n",
    "print(fib_flr(11))\n",
    "print(fib_flr(13))"
   ]
  },
  {
   "cell_type": "markdown",
   "id": "d88a1b7f",
   "metadata": {},
   "source": [
    "#### f."
   ]
  },
  {
   "cell_type": "code",
   "execution_count": 12,
   "id": "a74def87",
   "metadata": {
    "scrolled": false
   },
   "outputs": [],
   "source": [
    "def calculate_time(func, n, r):\n",
    "    \"\"\"\n",
    "    This function calculates the median running time of each functions. \n",
    "\n",
    "    Parameters\n",
    "    ----------\n",
    "    func : function\n",
    "        the function name.\n",
    "    n : int\n",
    "        the nth Fibonacci numbers will be calculated.\n",
    "    r : int\n",
    "        repeated number of calculating the running time.\n",
    "\n",
    "     Returns\n",
    "     -------\n",
    "     the median running time of each functions.\n",
    "\n",
    "    \"\"\"\n",
    "    cal_time = []\n",
    "    for i in range(r):\n",
    "        start = time.perf_counter()\n",
    "        func(n)\n",
    "        end = time.perf_counter()\n",
    "        cal_time.append(end - start)\n",
    "    return round(np.mean(cal_time), 4)"
   ]
  },
  {
   "cell_type": "markdown",
   "id": "f3b44896",
   "metadata": {
    "variables": {
     "calculate_time(fib_flr, 15, 10)": "0.0",
     "calculate_time(fib_flr, 20, 10)": "0.0",
     "calculate_time(fib_flr, 25, 10)": "0.0",
     "calculate_time(fib_flr, 30, 10)": "0.0",
     "calculate_time(fib_flr, 35, 10)": "0.0",
     "calculate_time(fib_for, 15, 10)": "0.0",
     "calculate_time(fib_for, 20, 10)": "0.0",
     "calculate_time(fib_for, 25, 10)": "0.0",
     "calculate_time(fib_for, 30, 10)": "0.0",
     "calculate_time(fib_for, 35, 10)": "0.0",
     "calculate_time(fib_rec, 15, 10)": "0.0002",
     "calculate_time(fib_rec, 20, 10)": "0.0024",
     "calculate_time(fib_rec, 25, 10)": "0.0261",
     "calculate_time(fib_rec, 30, 10)": "0.2826",
     "calculate_time(fib_rec, 35, 10)": "3.1392",
     "calculate_time(fib_rnd, 15, 10)": "0.0",
     "calculate_time(fib_rnd, 20, 10)": "0.0",
     "calculate_time(fib_rnd, 25, 10)": "0.0",
     "calculate_time(fib_rnd, 30, 10)": "0.0",
     "calculate_time(fib_rnd, 35, 10)": "0.0",
     "calculate_time(fib_whl, 15, 10)": "0.0",
     "calculate_time(fib_whl, 20, 10)": "0.0",
     "calculate_time(fib_whl, 25, 10)": "0.0",
     "calculate_time(fib_whl, 30, 10)": "0.0",
     "calculate_time(fib_whl, 35, 10)": "0.0"
    }
   },
   "source": [
    "| n   | fib_rec | fib_for | fib_whl | fib_rnd | fib_flr |\n",
    "| :-: | :-----: | :-----: | :-----: | :-----: | :-----: |\n",
    "|  15 |{{calculate_time(fib_rec, 15, 10)}}|{{calculate_time(fib_for, 15, 10)}}|{{calculate_time(fib_whl, 15, 10)}}|{{calculate_time(fib_rnd, 15, 10)}}|{{calculate_time(fib_flr, 15, 10)}}|\n",
    "|  20 |{{calculate_time(fib_rec, 20, 10)}}|{{calculate_time(fib_for, 20, 10)}}|{{calculate_time(fib_whl, 20, 10)}}|{{calculate_time(fib_rnd, 20, 10)}}|{{calculate_time(fib_flr, 20, 10)}}|\n",
    "|  25 |{{calculate_time(fib_rec, 25, 10)}}|{{calculate_time(fib_for, 25, 10)}}|{{calculate_time(fib_whl, 25, 10)}}|{{calculate_time(fib_rnd, 25, 10)}}|{{calculate_time(fib_flr, 25, 10)}}|\n",
    "|  30 |{{calculate_time(fib_rec, 30, 10)}}|{{calculate_time(fib_for, 30, 10)}}|{{calculate_time(fib_whl, 30, 10)}}|{{calculate_time(fib_rnd, 30, 10)}}|{{calculate_time(fib_flr, 30, 10)}}|\n",
    "|  35 |{{calculate_time(fib_rec, 35, 10)}}|{{calculate_time(fib_for, 35, 10)}}|{{calculate_time(fib_whl, 35, 10)}}|{{calculate_time(fib_rnd, 35, 10)}}|{{calculate_time(fib_flr, 35, 10)}}|"
   ]
  },
  {
   "cell_type": "markdown",
   "id": "8752828b",
   "metadata": {},
   "source": [
    "## Question 2 - Pascal’s Triangle"
   ]
  },
  {
   "cell_type": "markdown",
   "id": "af6a3d7a",
   "metadata": {},
   "source": [
    "#### a."
   ]
  },
  {
   "cell_type": "code",
   "execution_count": 13,
   "id": "a55ec276",
   "metadata": {},
   "outputs": [],
   "source": [
    "def pascal_row(n):\n",
    "    \"\"\"\n",
    "    This function compute the nth row of Pascal’s triangle.\n",
    "\n",
    "    Parameters\n",
    "    ----------\n",
    "    n : int\n",
    "        compute the nth row of Pascal’s triangle.\n",
    "\n",
    "    Returns\n",
    "    -------\n",
    "    the nth row of Pascal’s triangle.\n",
    "\n",
    "    \"\"\"\n",
    "    x = [1]\n",
    "    for i in range(n - 1):\n",
    "        c_i = int(x[i] * (n - i - 1) / (i + 1))\n",
    "        x.append(c_i)\n",
    "    return x"
   ]
  },
  {
   "cell_type": "markdown",
   "id": "8862ee23",
   "metadata": {},
   "source": [
    "#### b."
   ]
  },
  {
   "cell_type": "code",
   "execution_count": 14,
   "id": "fa577b16",
   "metadata": {},
   "outputs": [],
   "source": [
    "def print_pascal_trl(n):\n",
    "    \"\"\"\n",
    "    This function prints the first n rows of Pascal’s triangle.\n",
    "\n",
    "    Parameters\n",
    "    ----------\n",
    "    n : int\n",
    "        print the first n rows of Pascal’s triangle. \n",
    "\n",
    "    Returns\n",
    "    -------\n",
    "    None.\n",
    "\n",
    "    \"\"\"\n",
    "    largest_elm = pascal_row(n)[n // 2]\n",
    "    elm_width = len(str(largest_elm)) + 1\n",
    "    trl_width = elm_width * n\n",
    "    \n",
    "    for i in range(n):\n",
    "        x = pascal_row(i + 1)\n",
    "        y = \"\".join([str(x[j]).center(elm_width) for j in range(i + 1)])\n",
    "        print(y.center(trl_width))"
   ]
  },
  {
   "cell_type": "code",
   "execution_count": null,
   "id": "e836b4ab",
   "metadata": {},
   "outputs": [],
   "source": []
  },
  {
   "cell_type": "code",
   "execution_count": 15,
   "id": "43612d4f",
   "metadata": {},
   "outputs": [
    {
     "name": "stdout",
     "output_type": "stream",
     "text": [
      "                     1                      \n",
      "                   1   1                    \n",
      "                 1   2   1                  \n",
      "               1   3   3   1                \n",
      "             1   4   6   4   1              \n",
      "           1   5   10  10  5   1            \n",
      "         1   6   15  20  15  6   1          \n",
      "       1   7   21  35  35  21  7   1        \n",
      "     1   8   28  56  70  56  28  8   1      \n",
      "   1   9   36  84 126 126  84  36  9   1    \n",
      " 1   10  45 120 210 252 210 120  45  10  1  \n"
     ]
    }
   ],
   "source": [
    "print_pascal_trl(11)"
   ]
  },
  {
   "cell_type": "markdown",
   "id": "4801162a",
   "metadata": {},
   "source": [
    "## Question 3 - Statistics 101"
   ]
  },
  {
   "cell_type": "markdown",
   "id": "88d3a7a5",
   "metadata": {},
   "source": [
    "#### a."
   ]
  },
  {
   "cell_type": "code",
   "execution_count": 16,
   "id": "742449f9",
   "metadata": {},
   "outputs": [],
   "source": [
    "def estimate_ci(data, level, output = \"string\"):\n",
    "    \"\"\"\n",
    "    This function estimates a point and interval based on Normal theory. \n",
    "\n",
    "    Parameters\n",
    "    ----------\n",
    "    data : array\n",
    "        input data.\n",
    "    level : int\n",
    "        confidence interval.\n",
    "    output : string\n",
    "\n",
    "    Returns\n",
    "    -------\n",
    "    string or dictionary.\n",
    "\n",
    "    \"\"\"\n",
    "    mean = np.mean(data)\n",
    "    std = np.std(data)\n",
    "    z = norm.ppf(1 - (1 - level * .01) / 2) / (len(data) ** .5)\n",
    "    est = round(mean, 3)\n",
    "    lwr = round(mean - z * std, 3)\n",
    "    upr = round(mean + z * std, 3)\n",
    "    \n",
    "    if output == \"string\":\n",
    "        return str(est) + '[' + str(level) + '%CI:(' + str(lwr) + ',' + str(upr) + ')]'\n",
    "    elif output == None:\n",
    "        return {'est': est, 'lwr': lwr, 'upr': upr}"
   ]
  },
  {
   "cell_type": "markdown",
   "id": "ba9804c3",
   "metadata": {},
   "source": [
    "#### b."
   ]
  },
  {
   "cell_type": "code",
   "execution_count": 17,
   "id": "58534f86",
   "metadata": {},
   "outputs": [],
   "source": [
    "def binomial_ci(data, method, level, output = \"string\"):\n",
    "    \"\"\"\n",
    "    This function estimates a point and interval using four different methods. \n",
    "\n",
    "    Parameters\n",
    "    ----------\n",
    "    data : array\n",
    "        input data.\n",
    "    method : string\n",
    "        indicate which method will be used. \n",
    "        \"normal_appx\" means normal approximation will be used. \n",
    "        \"clopper_pearson\" means Clopper-Pearson interval will be computed. \n",
    "        \"Jeffrey\" means Jeffrey’s interval interval will be computed. \n",
    "        \"Agresti-Coull\" means Agresti-Coull interval will be computed. \n",
    "    level : int\n",
    "        confidence interval.\n",
    "    output : string\n",
    "\n",
    "    Returns\n",
    "    -------\n",
    "    string or dictionary.\n",
    "\n",
    "    \"\"\"\n",
    "    x = np.sum(data)\n",
    "    n = len(data)\n",
    "    p_hat = x / n\n",
    "    alpha = 1 - level * .01\n",
    "    \n",
    "    if method == \"normal_appx\":\n",
    "        est = round(p_hat, 3)\n",
    "        if np.min([n * p_hat, n * (1 - p_hat)]) > 12:\n",
    "            z = norm.ppf(1 - alpha / 2)\n",
    "            lwr = round(p_hat - z * ((p_hat * (1 - p_hat) / n) ** .5), 3)\n",
    "            upr = round(p_hat + z * ((p_hat * (1 - p_hat) / n) ** .5), 3)\n",
    "        else:\n",
    "            print(\"The condition is not satisfied.\")\n",
    "            return\n",
    "            \n",
    "    if method == \"clopper_pearson\":\n",
    "        est = round(p_hat, 3)\n",
    "        lwr = round(beta.ppf(alpha / 2, x, n - x + 1), 3)\n",
    "        upr = round(beta.ppf(1 - alpha / 2, x + 1, n - x), 3)\n",
    "        \n",
    "    if method == \"Jeffrey\":\n",
    "        est = round(p_hat, 3)\n",
    "        lwr = round(np.max([0, beta.ppf(alpha / 2, x + 0.5, n - x + 0.5)]), 3)\n",
    "        upr = round(np.min([1, beta.ppf(1 - alpha / 2, x + 0.5, n - x + 0.5)]), 3)\n",
    "        \n",
    "    if method == \"Agresti_Coull\":\n",
    "        z = norm.ppf(1 - alpha / 2)\n",
    "        n_tilde = n + z ** 2\n",
    "        p_tilde = (x + z ** 2 / 2) / n_tilde\n",
    "        est = round(p_tilde, 3)\n",
    "        lwr = round(p_tilde - z * ((p_tilde * (1 - p_tilde) / n) ** .5), 3)\n",
    "        upr = round(p_tilde + z * ((p_tilde * (1 - p_tilde) / n) ** .5), 3)\n",
    "        \n",
    "    if output == \"string\":\n",
    "        return str(est) + '[' + str(level) + '%CI:(' + str(lwr) + ',' + str(upr) + ')]'\n",
    "    elif output == None:\n",
    "        return {'est': est, 'lwr': lwr, 'upr': upr}"
   ]
  },
  {
   "cell_type": "markdown",
   "id": "a69d041a",
   "metadata": {},
   "source": [
    "#### c."
   ]
  },
  {
   "cell_type": "code",
   "execution_count": 18,
   "id": "e9123d28",
   "metadata": {},
   "outputs": [],
   "source": [
    "data = np.append(np.repeat(1, 42), np.repeat(0, 48)) "
   ]
  },
  {
   "cell_type": "markdown",
   "id": "8d8375e0",
   "metadata": {
    "variables": {
     "binomial_ci(data, \"Agresti_Coull\", 90)": "0.468[90%CI:(0.381,0.554)]",
     "binomial_ci(data, \"Agresti_Coull\", 95)": "0.468[95%CI:(0.365,0.571)]",
     "binomial_ci(data, \"Agresti_Coull\", 99)": "0.469[99%CI:(0.333,0.604)]",
     "binomial_ci(data, \"Jeffrey\", 90)": "0.467[90%CI:(0.382,0.553)]",
     "binomial_ci(data, \"Jeffrey\", 95)": "0.467[95%CI:(0.366,0.569)]",
     "binomial_ci(data, \"Jeffrey\", 99)": "0.467[99%CI:(0.336,0.601)]",
     "binomial_ci(data, \"clopper_pearson\", 90)": "0.467[90%CI:(0.376,0.559)]",
     "binomial_ci(data, \"clopper_pearson\", 95)": "0.467[95%CI:(0.361,0.575)]",
     "binomial_ci(data, \"clopper_pearson\", 99)": "0.467[99%CI:(0.331,0.606)]",
     "binomial_ci(data, \"normal_appx\", 90)": "0.467[90%CI:(0.38,0.553)]",
     "binomial_ci(data, \"normal_appx\", 95)": "0.467[95%CI:(0.364,0.57)]",
     "binomial_ci(data, \"normal_appx\", 99)": "0.467[99%CI:(0.331,0.602)]",
     "estimate_ci(data, 90)": "0.467[90%CI:(0.38,0.553)]",
     "estimate_ci(data, 95)": "0.467[95%CI:(0.364,0.57)]",
     "estimate_ci(data, 99)": "0.467[99%CI:(0.331,0.602)]"
    }
   },
   "source": [
    "| confidence level | standard                  |  normal approximation                    | clopper-pearson                              | Jeffrey's                              | Agresti-Coull                              |\n",
    "| :--------------: | :-----------------------: | :--------------------------------------: | :------------------------------------------: | :------------------------------------: | :------------------------------------------: |\n",
    "| 90\\%             | {{estimate_ci(data, 90)}} | {{binomial_ci(data, \"normal_appx\", 90)}} | {{binomial_ci(data, \"clopper_pearson\", 90)}} | {{binomial_ci(data, \"Jeffrey\", 90)}} | {{binomial_ci(data, \"Agresti_Coull\", 90)}} |\n",
    "| 95\\%               | {{estimate_ci(data, 95)}} | {{binomial_ci(data, \"normal_appx\", 95)}} | {{binomial_ci(data, \"clopper_pearson\", 95)}} | {{binomial_ci(data, \"Jeffrey\", 95)}} | {{binomial_ci(data, \"Agresti_Coull\", 95)}} |\n",
    "| 99\\%                | {{estimate_ci(data, 99)}} | {{binomial_ci(data, \"normal_appx\", 99)}} | {{binomial_ci(data, \"clopper_pearson\", 99)}} | {{binomial_ci(data, \"Jeffrey\", 99)}} | {{binomial_ci(data, \"Agresti_Coull\", 99)}} |"
   ]
  },
  {
   "cell_type": "markdown",
   "id": "63acac4d",
   "metadata": {},
   "source": [
    "The length of the different methods."
   ]
  },
  {
   "cell_type": "markdown",
   "id": "b75553c1",
   "metadata": {
    "variables": {
     "round(binomial_ci(data, \"Agresti_Coull\", 90, None)['upr'] - binomial_ci(data, \"Agresti_Coull\", 90, None)['lwr'], 3)": "0.173",
     "round(binomial_ci(data, \"Agresti_Coull\", 95, None)['upr'] - binomial_ci(data, \"Agresti_Coull\", 95, None)['lwr'], 3)": "0.206",
     "round(binomial_ci(data, \"Agresti_Coull\", 99, None)['upr'] - binomial_ci(data, \"Agresti_Coull\", 99, None)['lwr'], 3)": "0.271",
     "round(binomial_ci(data, \"Jeffrey\", 90, None)['upr'] - binomial_ci(data, \"Jeffrey\", 90, None)['lwr'], 3)": "0.171",
     "round(binomial_ci(data, \"Jeffrey\", 95, None)['upr'] - binomial_ci(data, \"Jeffrey\", 95, None)['lwr'], 3)": "0.203",
     "round(binomial_ci(data, \"Jeffrey\", 99, None)['upr'] - binomial_ci(data, \"Jeffrey\", 99, None)['lwr'], 3)": "0.265",
     "round(binomial_ci(data, \"clopper_pearson\", 90, None)['upr'] - binomial_ci(data, \"clopper_pearson\", 90, None)['lwr'], 3)": "0.183",
     "round(binomial_ci(data, \"clopper_pearson\", 95, None)['upr'] - binomial_ci(data, \"clopper_pearson\", 95, None)['lwr'], 3)": "0.214",
     "round(binomial_ci(data, \"clopper_pearson\", 99, None)['upr'] - binomial_ci(data, \"clopper_pearson\", 99, None)['lwr'], 3)": "0.275",
     "round(binomial_ci(data, \"normal_appx\", 90, None)['upr'] - binomial_ci(data, \"normal_appx\", 90, None)['lwr'], 3)": "0.173",
     "round(binomial_ci(data, \"normal_appx\", 95, None)['upr'] - binomial_ci(data, \"normal_appx\", 95, None)['lwr'], 3)": "0.206",
     "round(binomial_ci(data, \"normal_appx\", 99, None)['upr'] - binomial_ci(data, \"normal_appx\", 99, None)['lwr'], 3)": "0.271",
     "round(estimate_ci(data, 90, None)['upr'] - estimate_ci(data, 90, None)['lwr'], 3)": "0.173",
     "round(estimate_ci(data, 95, None)['upr'] - estimate_ci(data, 95, None)['lwr'], 3)": "0.206",
     "round(estimate_ci(data, 99, None)['upr'] - estimate_ci(data, 99, None)['lwr'], 3)": "0.271"
    }
   },
   "source": [
    "| confidence level | standard |  normal approximation | clopper-pearson | Jeffrey's | Agresti-Coull  |\n",
    "| :--------------: | :------: | :-------------------: | :-------------: | :-------: | :------------: |\n",
    "| 90\\% | {{round(estimate_ci(data, 90, None)['upr'] - estimate_ci(data, 90, None)['lwr'], 3)}} | {{round(binomial_ci(data, \"normal_appx\", 90, None)['upr'] - binomial_ci(data, \"normal_appx\", 90, None)['lwr'], 3)}} | {{round(binomial_ci(data, \"clopper_pearson\", 90, None)['upr'] - binomial_ci(data, \"clopper_pearson\", 90, None)['lwr'], 3)}} | {{round(binomial_ci(data, \"Jeffrey\", 90, None)['upr'] - binomial_ci(data, \"Jeffrey\", 90, None)['lwr'], 3)}} | {{round(binomial_ci(data, \"Agresti_Coull\", 90, None)['upr'] - binomial_ci(data, \"Agresti_Coull\", 90, None)['lwr'], 3)}} |\n",
    "| 95\\% | {{round(estimate_ci(data, 95, None)['upr'] - estimate_ci(data, 95, None)['lwr'], 3)}} | {{round(binomial_ci(data, \"normal_appx\", 95, None)['upr'] - binomial_ci(data, \"normal_appx\", 95, None)['lwr'], 3)}} | {{round(binomial_ci(data, \"clopper_pearson\", 95, None)['upr'] - binomial_ci(data, \"clopper_pearson\", 95, None)['lwr'], 3)}} | {{round(binomial_ci(data, \"Jeffrey\", 95, None)['upr'] - binomial_ci(data, \"Jeffrey\", 95, None)['lwr'], 3)}} | {{round(binomial_ci(data, \"Agresti_Coull\", 95, None)['upr'] - binomial_ci(data, \"Agresti_Coull\", 95, None)['lwr'], 3)}} |\n",
    "| 99\\% | {{round(estimate_ci(data, 99, None)['upr'] - estimate_ci(data, 99, None)['lwr'], 3)}} | {{round(binomial_ci(data, \"normal_appx\", 99, None)['upr'] - binomial_ci(data, \"normal_appx\", 99, None)['lwr'], 3)}} | {{round(binomial_ci(data, \"clopper_pearson\", 99, None)['upr'] - binomial_ci(data, \"clopper_pearson\", 99, None)['lwr'], 3)}} | {{round(binomial_ci(data, \"Jeffrey\", 99, None)['upr'] - binomial_ci(data, \"Jeffrey\", 99, None)['lwr'], 3)}} | {{round(binomial_ci(data, \"Agresti_Coull\", 99, None)['upr'] - binomial_ci(data, \"Agresti_Coull\", 99, None)['lwr'], 3)}} |"
   ]
  },
  {
   "cell_type": "markdown",
   "id": "e5b1891b",
   "metadata": {},
   "source": [
    "The Jeffrey’s intervals have smallest width."
   ]
  }
 ],
 "metadata": {
  "jupytext": {
   "encoding": "# -*- coding: utf-8 -*-",
   "formats": "ipynb,py:light,md"
  },
  "kernelspec": {
   "display_name": "Python 3",
   "language": "python",
   "name": "python3"
  },
  "language_info": {
   "codemirror_mode": {
    "name": "ipython",
    "version": 3
   },
   "file_extension": ".py",
   "mimetype": "text/x-python",
   "name": "python",
   "nbconvert_exporter": "python",
   "pygments_lexer": "ipython3",
   "version": "3.8.8"
  }
 },
 "nbformat": 4,
 "nbformat_minor": 5
}
