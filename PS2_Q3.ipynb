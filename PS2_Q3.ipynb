{
 "cells": [
  {
   "cell_type": "markdown",
   "id": "94c8d670",
   "metadata": {},
   "source": [
    "## Question 3"
   ]
  },
  {
   "cell_type": "markdown",
   "id": "73422ac9",
   "metadata": {},
   "source": [
    "#### a."
   ]
  },
  {
   "cell_type": "code",
   "execution_count": null,
   "id": "757b32d1",
   "metadata": {},
   "outputs": [],
   "source": [
    "col = [\"SEQN\", \"RIAGENDR\", \"RIDAGEYR\", \"RIDRETH3\", \"DMDEDUC2\", \"DMDMARTL\", \n",
    "       \"RIDSTATR\", \"SDMVPSU\", \"SDMVSTRA\", \"WTMEC2YR\", \"WTINT2YR\"]\n",
    "\n",
    "df_DEMO_G = pd.read_sas(\"DEMO_G.XPT\")[col]\n",
    "df_DEMO_G[\"cohort\"] = \"2011-2012\"\n",
    "\n",
    "df_DEMO_H = pd.read_sas(\"DEMO_H.XPT\")[col]\n",
    "df_DEMO_H[\"cohort\"] = \"2013-2014\"\n",
    "\n",
    "df_DEMO_I = pd.read_sas(\"DEMO_I.XPT\")[col]\n",
    "df_DEMO_I[\"cohort\"] = \"2015-2016\"\n",
    "\n",
    "df_DEMO_J = pd.read_sas(\"DEMO_J.XPT\")[col]\n",
    "df_DEMO_J[\"cohort\"] = \"2017-2018\"\n",
    "\n",
    "df_DEMO = pd.concat([df_DEMO_G, df_DEMO_H, df_DEMO_I, df_DEMO_J])\n",
    "df_DEMO.columns = [\"id\", \"gender\", \"age\", \"race\", \"education\", \"marriage\", \"exam_status\", \n",
    "                   \"weight2\", \"weight3\", \"weight4\", \"weight5\", \"year\"]\n",
    "df_DEMO.index = range(1, df_DEMO.shape[0] + 1)\n",
    "df_DEMO.to_pickle('DEMO.pkl')\n",
    "df_DEMO"
   ]
  },
  {
   "cell_type": "markdown",
   "id": "0433550e",
   "metadata": {},
   "source": [
    "#### b."
   ]
  },
  {
   "cell_type": "code",
   "execution_count": null,
   "id": "4286eed8",
   "metadata": {},
   "outputs": [],
   "source": [
    "col = [\"SEQN\", \"OHDDESTS\"]\n",
    "df_columns = pd.read_sas(\"OHXDEN_G.XPT\").columns\n",
    "for column in df_columns:\n",
    "    if column[:3] == \"OHX\" and column[-2:] == \"TC\":\n",
    "        col.append(column)\n",
    "        \n",
    "df_OHXDEN_G = pd.read_sas(\"OHXDEN_G.XPT\")[col]\n",
    "df_OHXDEN_G[\"cohort\"] = \"2011-2012\"\n",
    "\n",
    "df_OHXDEN_H = pd.read_sas(\"OHXDEN_H.XPT\")[col]\n",
    "df_OHXDEN_H[\"cohort\"] = \"2013-2014\"\n",
    "\n",
    "df_OHXDEN_I = pd.read_sas(\"OHXDEN_I.XPT\")[col]\n",
    "df_OHXDEN_I[\"cohort\"] = \"2015-2016\"\n",
    "\n",
    "df_OHXDEN_J = pd.read_sas(\"OHXDEN_J.XPT\")[col]\n",
    "df_OHXDEN_J[\"cohort\"] = \"2017-2018\"\n",
    "\n",
    "df_OHXDEN = pd.concat([df_OHXDEN_G, df_OHXDEN_H, df_OHXDEN_I, df_OHXDEN_J])\n",
    "df_OHXDE_col = [\"id\", \"ohx_status\"]\n",
    "df_OHXDE_col.extend([\"tooth_count{}\".format(x) for x in range(1,33)])\n",
    "df_OHXDE_col.extend([\"coronal_caries{}\".format(x) for x in range(2,16)])\n",
    "df_OHXDE_col.extend([\"coronal_caries{}\".format(x) for x in range(18,32)])\n",
    "df_OHXDE_col.append(\"year\")\n",
    "df_OHXDEN.columns = df_OHXDE_col\n",
    "df_OHXDEN.index = range(1, df_OHXDEN.shape[0] + 1)\n",
    "df_OHXDEN.to_pickle('OHXDEN.pkl')\n",
    "df_OHXDEN"
   ]
  },
  {
   "cell_type": "markdown",
   "id": "a10c8b3e",
   "metadata": {},
   "source": [
    "#### c."
   ]
  },
  {
   "cell_type": "code",
   "execution_count": 11,
   "id": "fc21c7d5",
   "metadata": {},
   "outputs": [
    {
     "data": {
      "text/plain": [
       "39156"
      ]
     },
     "execution_count": 11,
     "metadata": {},
     "output_type": "execute_result"
    }
   ],
   "source": [
    "df_DEMO.shape[0] # the number of cases in a."
   ]
  },
  {
   "cell_type": "code",
   "execution_count": 12,
   "id": "9d58ef66",
   "metadata": {},
   "outputs": [
    {
     "data": {
      "text/plain": [
       "35909"
      ]
     },
     "execution_count": 12,
     "metadata": {},
     "output_type": "execute_result"
    }
   ],
   "source": [
    "df_OHXDEN.shape[0] # the number of cases in ."
   ]
  }
 ],
 "metadata": {
  "kernelspec": {
   "display_name": "Python 3",
   "language": "python",
   "name": "python3"
  },
  "language_info": {
   "codemirror_mode": {
    "name": "ipython",
    "version": 3
   },
   "file_extension": ".py",
   "mimetype": "text/x-python",
   "name": "python",
   "nbconvert_exporter": "python",
   "pygments_lexer": "ipython3",
   "version": "3.8.8"
  }
 },
 "nbformat": 4,
 "nbformat_minor": 5
}
