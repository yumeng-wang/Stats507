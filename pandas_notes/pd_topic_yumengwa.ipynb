{
 "cells": [
  {
   "cell_type": "markdown",
   "id": "c24565d0",
   "metadata": {},
   "source": [
    "### My name: Yumeng Wang\n",
    "### My UM email: yumengwa@umich.edu"
   ]
  },
  {
   "cell_type": "code",
   "execution_count": null,
   "id": "28e94d77",
   "metadata": {},
   "outputs": [],
   "source": [
    "import pickle\n",
    "import random\n",
    "\n",
    "import numpy as np\n",
    "import pandas as pd\n",
    "import matplotlib.cm as cm\n",
    "import matplotlib.pyplot as plt\n",
    "\n",
    "from scipy import stats\n",
    "from scipy.stats import chi2_contingency\n",
    "from scipy.stats import binom, norm\n",
    "from confidence_interval import ci_mean, ci_prop"
   ]
  },
  {
   "cell_type": "markdown",
   "id": "6ad59541",
   "metadata": {},
   "source": [
    "## Question 0"
   ]
  },
  {
   "cell_type": "markdown",
   "id": "69eace10",
   "metadata": {},
   "source": [
    "## Working with missing data\n",
    "\n",
    "### Detecting\n",
    "- use `.isnull()` to detecte missing values\n",
    "- use `.notnull()` to detecte non-null values\n",
    "\n",
    "### Example"
   ]
  },
  {
   "cell_type": "code",
   "execution_count": null,
   "id": "fccd24f5",
   "metadata": {},
   "outputs": [],
   "source": [
    "df = pd.DataFrame(\n",
    "    [[1, np.nan, 3], [np.nan, 5, 6], [7, 8, np.nan], [10, 11, 12]], \n",
    "    index=[\"a\", \"b\", \"c\", \"d\"], \n",
    "    columns=[\"0\", \"1\", \"2\"]\n",
    ")\n",
    "df"
   ]
  },
  {
   "cell_type": "code",
   "execution_count": null,
   "id": "2efc8638",
   "metadata": {},
   "outputs": [],
   "source": [
    "df.isnull()"
   ]
  },
  {
   "cell_type": "markdown",
   "id": "1cfc3aab",
   "metadata": {},
   "source": [
    "### Deleting\n",
    "- use `.dropna()` to delete the missing values\n",
    "\n",
    "### Example"
   ]
  },
  {
   "cell_type": "code",
   "execution_count": null,
   "id": "436823a5",
   "metadata": {},
   "outputs": [],
   "source": [
    "df.dropna()"
   ]
  },
  {
   "cell_type": "markdown",
   "id": "cf890e60",
   "metadata": {},
   "source": [
    "### Filling\n",
    "- use `.fillna()` to fill the missing values\n",
    "- use `.ffill()` to fill the missing value with forward one\n",
    "- use `.bfill()` to fill the missing value with backward one\n",
    "\n",
    "\n",
    "### Example"
   ]
  },
  {
   "cell_type": "code",
   "execution_count": null,
   "id": "7a96658e",
   "metadata": {},
   "outputs": [],
   "source": [
    "df.fillna(100)"
   ]
  }
 ],
 "metadata": {
  "jupytext": {
   "formats": "ipynb,py:light"
  },
  "kernelspec": {
   "display_name": "Python 3",
   "language": "python",
   "name": "python3"
  },
  "language_info": {
   "codemirror_mode": {
    "name": "ipython",
    "version": 3
   },
   "file_extension": ".py",
   "mimetype": "text/x-python",
   "name": "python",
   "nbconvert_exporter": "python",
   "pygments_lexer": "ipython3",
   "version": "3.8.8"
  }
 },
 "nbformat": 4,
 "nbformat_minor": 5
}
